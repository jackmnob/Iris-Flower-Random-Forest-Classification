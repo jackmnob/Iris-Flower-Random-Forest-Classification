{
 "cells": [
  {
   "cell_type": "markdown",
   "id": "b527df09-2b20-40e1-b0b1-b0a505e4db82",
   "metadata": {},
   "source": [
    "**<span style=\"color:orange; font-size:18px;\">About This Dataset:</span>**\n",
    "\n",
    "- The Iris dataset was used in R.A. Fisher's classic 1936 paper, The Use of Multiple Measurements in Taxonomic Problems, and **can also be found on the UCI Machine Learning Repository**.\n",
    "\n",
    "- It includes **three iris species with 50 samples each** as well as some properties about each flower. *One flower species is linearly separable from the other two, but the other two are not linearly separable from each other*\n",
    "\n",
    "- The columns in this dataset are: **Id, SepalLengthCm, SepalWidthCm, PetalLengthCm, PetalWidthCm, and Species**\n",
    "\n",
    "- **UCI Machine Learning Repository** Link: *https://archive.ics.uci.edu/dataset/53/iris*\n",
    "\n",
    "- **Kaggle** Dataset Link: *https://www.kaggle.com/datasets/uciml/iris*"
   ]
  },
  {
   "cell_type": "markdown",
   "id": "e3643396-96d2-4747-bfa5-e6e85366ac1f",
   "metadata": {},
   "source": [
    "**<span style=\"color:orange; font-size:18px;\">Purpose of Analysis:</span>**\n",
    "\n",
    "- Solve a **classification** problem by using **machine learning**\n",
    "\n",
    "- Accurately classify the 3 types of **Iris species**: *Setosa, Versicolor, and Virginica* \n",
    "\n",
    "- Explore the relationships between **sepal and petal dimensions**\n",
    "\n",
    "- Evaluate the effects of **feature selection** on our model's performance\n",
    "\n",
    "**Now, Let's begin!**"
   ]
  },
  {
   "cell_type": "markdown",
   "id": "4455ea79-f059-4ae7-a2e8-8453fc79d61e",
   "metadata": {},
   "source": [
    "**<span style=\"color:orange; font-size:18px;\">Read in the required modules and change our default pandas settings:</span>**"
   ]
  },
  {
   "cell_type": "code",
   "execution_count": 190,
   "id": "7ef4c7d8-8718-419d-957e-ec226e28a548",
   "metadata": {},
   "outputs": [
    {
     "name": "stdout",
     "output_type": "stream",
     "text": [
      "All modules successfully imported!\n"
     ]
    }
   ],
   "source": [
    "#  Use the \"try\" flow control argument to \"try\" and import all of our required modules\n",
    "try:\n",
    "    #  Import basic operating system packages\n",
    "    #  Import os for getting the current working directory\n",
    "    import os\n",
    "                                        \n",
    "    #  Import math and statistics packages\n",
    "    #  Import \"pandas\" for data manipulation and analysis, rename it to \"pd\"\n",
    "    import pandas as pd\n",
    "    #  Import \"numpy\" for numerical computations, rename it to \"np\"\n",
    "    import numpy as np\n",
    "\n",
    "    #  Now, import Machine Learning packages\n",
    "    #  Import \"train_test_split\" from sklearn's .model_selection method, used to split data into training and testing sets when creating predictive models\n",
    "    from sklearn.model_selection import train_test_split\n",
    "    #  Import the \"RandomForestClassifier\" algorithm from sklearn's .ensemble method, used to create classification models with the RandomForest method\n",
    "    from sklearn.ensemble import RandomForestClassifier\n",
    "    #  Import \"accuracy_score\" from sklearn's .metrics method (to evaulate classification models by comparing correct vs. incorrect predictions), and \"classification_report\" to get a summary of the precision, recall, and F1-scores\n",
    "    from sklearn.metrics import accuracy_score, classification_report\n",
    "    #  Import \"ConfusionMatrixDisplay\" and \"confusion_matrix\" from sklearn's .metrics method, used in categorical/classification AND continuous models to evaluate performance (i.e. accuracy and recall)\n",
    "    from sklearn.metrics import ConfusionMatrixDisplay, confusion_matrix\n",
    "    #  Import graph_from_dot_data from pydotplus to visualize decision trees (aka. Classification and Regression Trees or CARTs)\n",
    "    from pydotplus import graph_from_dot_data\n",
    "    #  From sklearn's '.tree' method import 'export_graphviz' to export our decision tree (the tree used for the model) as 'DOT' format\n",
    "    from sklearn.tree import export_graphviz\n",
    "\n",
    "    #  If all module imports are successful print the statement \n",
    "    print('All modules successfully imported!')\n",
    "\n",
    "#  Use an \"except\" clause to escape the \"try\" flow control argument if there is an error - and rename the error to 'moderror'\n",
    "except ModuleNotFoundError as moderror:\n",
    "    print(f\"Module failed to import: {moderror.name}\")"
   ]
  },
  {
   "cell_type": "code",
   "execution_count": 192,
   "id": "3c197c6c-01a2-4706-ba91-8eced24b518b",
   "metadata": {},
   "outputs": [
    {
     "name": "stdout",
     "output_type": "stream",
     "text": [
      "Display settings successfully applied...\n"
     ]
    }
   ],
   "source": [
    "#  Use the \"try\" flow control argument to \"try\" and change our viewing settings (using pandas/pd) for the IDE\n",
    "try:\n",
    "    # Change pandas default display settings (using pd.set_option()) for JuptyerLab so that our datasets can be fully displayed in our IDE\n",
    "    pd.set_option('display.max_columns', None)   # Ensure we can see all of our data (column-wise)\n",
    "    pd.set_option('display.width', 1000)         # Ensure we can see all of our data (viewing width **None is not a valid parameter**)\n",
    "    pd.set_option('display.max_rows', 50)       # Ensure we can see a large enough sample of our data (300 rows)\n",
    "\n",
    "    # Print our success message for user feedback\n",
    "    print('Display settings successfully applied...')\n",
    "\n",
    "#  Use an \"except\" clause to escape the \"try\" flow control argument if there is an error - and rename the error to 'moderror'\n",
    "except NameError:\n",
    "    print('Error: Pandas (\\'pd\\') is not defined. Ensure that pandas is imported using: import pandas as pd')\n",
    "\n",
    "#  Use an \"except\" clause to escape the \"try\" flow control argument if there is an error - and rename the error to 'moderror'\n",
    "except AttributeError:\n",
    "    print('Error: \\'pd\\' exists, but isn\\'t recognized as pandas. Please check your import statement and ensure that pandas is installed correctly, and isn\\'t assigned to anything else (variables).')\n",
    "    \n",
    "#  Use an \"except\" clause to escape the \"try\" flow control argument if there is an error - and rename the error to 'moderror'\n",
    "except Exception as ex:\n",
    "    print('Unexpected error: ' + str(ex))"
   ]
  },
  {
   "cell_type": "markdown",
   "id": "c79440b4-75fc-44bc-b168-5ab5ca113806",
   "metadata": {},
   "source": [
    "**<span style=\"color:red; font-size:18px;\">Initialize our filepath variable and locate the dataset:</span>**"
   ]
  },
  {
   "cell_type": "code",
   "execution_count": 195,
   "id": "3395ebbd-ea66-4a6c-bf40-471a34b7931c",
   "metadata": {},
   "outputs": [],
   "source": [
    "# Initialize our CSV file path (Iris)\n",
    "irisFilePath = r'C:\\Users\\jackn\\Desktop\\Projects\\Portfolio\\ML\\Iris.csv'"
   ]
  },
  {
   "cell_type": "code",
   "execution_count": 197,
   "id": "d78f6429-ff45-4131-8a7d-175f97a9f3b2",
   "metadata": {},
   "outputs": [
    {
     "name": "stdout",
     "output_type": "stream",
     "text": [
      "Dataset successfully located.\n"
     ]
    }
   ],
   "source": [
    "# Attempt to locate the dataset (using os.path.exists()) via the provided file path (located in the cell above)\n",
    "if not os.path.exists(irisFilePath):\n",
    "    # Print our our error message for our user if the file path is NOT found (concatenate our filePath variable to string)\n",
    "    print('Error - the file at: ' + irisFilePath + ' was not found!')\n",
    "    \n",
    "# Otherwise, if our file is located\n",
    "else:\n",
    "    # Print our success message for user feedback\n",
    "    print('Dataset successfully located.')"
   ]
  },
  {
   "cell_type": "markdown",
   "id": "f747b3b1-4640-4e8e-9f0e-85210b121616",
   "metadata": {},
   "source": [
    "**<span style=\"color:red; font-size:18px;\">Use pandas (and our file path variable) to read our file:</span>**"
   ]
  },
  {
   "cell_type": "code",
   "execution_count": 200,
   "id": "256a7c93-c64d-438b-ad3d-af90d4597eb7",
   "metadata": {},
   "outputs": [
    {
     "name": "stdout",
     "output_type": "stream",
     "text": [
      "Iris data is now sucessfully loaded.\n"
     ]
    }
   ],
   "source": [
    "#  Use the \"try\" flow control argument to \"try\" and read our selected file\n",
    "try:\n",
    "    # Use pandas (alias = pd) to read our CSV file, getting our iris data. Then, store this data in a new variable (i.e., irisDf)\n",
    "    irisDf = pd.read_csv(irisFilePath)\n",
    "    # If the Iris dataset was located and successfully loaded, inform the user with a success message\n",
    "    print(f\"Iris data is now sucessfully loaded.\")\n",
    "\n",
    "#  Otherwise, use an \"except\" clause to leave the \"try\" flow control argument. If there is an error, rename the error to 'fileError'\n",
    "except FileNotFoundError as fileError:\n",
    "    # Print out the error message for our user (a combo of string and our new exception variable 'ex')\n",
    "    print(f\"Error locating iris data! File cannot be found at path: {fileError.filename}\")"
   ]
  },
  {
   "cell_type": "markdown",
   "id": "d0de8e06-e955-45f7-af11-4490b4dc242e",
   "metadata": {},
   "source": [
    "**<span style=\"color:Green; font-size:18px;\">Now let's do some EDA and view the important characteristics of our dataset:</span>**"
   ]
  },
  {
   "cell_type": "code",
   "execution_count": 203,
   "id": "28ddaae8-be53-4287-9e06-29e4b2c9a36f",
   "metadata": {},
   "outputs": [
    {
     "name": "stdout",
     "output_type": "stream",
     "text": [
      "<class 'pandas.core.frame.DataFrame'>\n",
      "RangeIndex: 150 entries, 0 to 149\n",
      "Data columns (total 6 columns):\n",
      " #   Column         Non-Null Count  Dtype  \n",
      "---  ------         --------------  -----  \n",
      " 0   Id             150 non-null    int64  \n",
      " 1   SepalLengthCm  150 non-null    float64\n",
      " 2   SepalWidthCm   150 non-null    float64\n",
      " 3   PetalLengthCm  150 non-null    float64\n",
      " 4   PetalWidthCm   150 non-null    float64\n",
      " 5   Species        150 non-null    object \n",
      "dtypes: float64(4), int64(1), object(1)\n",
      "memory usage: 7.2+ KB\n",
      "None\n"
     ]
    }
   ],
   "source": [
    "# Get the dataset's information using pandas' '.info()' function (shows columns, non-null counts, data types, and memory usage)\n",
    "print(irisDf.info())"
   ]
  },
  {
   "cell_type": "code",
   "execution_count": 205,
   "id": "1d3c1467-dfbd-48ab-a835-d8a0f228a109",
   "metadata": {},
   "outputs": [
    {
     "name": "stdout",
     "output_type": "stream",
     "text": [
      "               Id  SepalLengthCm  SepalWidthCm  PetalLengthCm  PetalWidthCm\n",
      "count  150.000000     150.000000    150.000000     150.000000    150.000000\n",
      "mean    75.500000       5.843333      3.054000       3.758667      1.198667\n",
      "std     43.445368       0.828066      0.433594       1.764420      0.763161\n",
      "min      1.000000       4.300000      2.000000       1.000000      0.100000\n",
      "25%     38.250000       5.100000      2.800000       1.600000      0.300000\n",
      "50%     75.500000       5.800000      3.000000       4.350000      1.300000\n",
      "75%    112.750000       6.400000      3.300000       5.100000      1.800000\n",
      "max    150.000000       7.900000      4.400000       6.900000      2.500000\n"
     ]
    }
   ],
   "source": [
    "# Use pandas' '.describe()' function to see descriptive statistics (mean, st.dev, min, max, and quartiles)\n",
    "print(irisDf.describe())"
   ]
  },
  {
   "cell_type": "code",
   "execution_count": 207,
   "id": "e57d1b24-5008-470b-b39d-ce579f226a73",
   "metadata": {},
   "outputs": [
    {
     "name": "stdout",
     "output_type": "stream",
     "text": [
      "Index(['Id', 'SepalLengthCm', 'SepalWidthCm', 'PetalLengthCm', 'PetalWidthCm', 'Species'], dtype='object')\n"
     ]
    }
   ],
   "source": [
    "# View the columns of the iris dataset\n",
    "print(irisDf.columns)"
   ]
  },
  {
   "cell_type": "code",
   "execution_count": 209,
   "id": "f87cc956-ce0e-4f37-8753-6e116bb42a75",
   "metadata": {},
   "outputs": [
    {
     "name": "stdout",
     "output_type": "stream",
     "text": [
      "Id               0\n",
      "SepalLengthCm    0\n",
      "SepalWidthCm     0\n",
      "PetalLengthCm    0\n",
      "PetalWidthCm     0\n",
      "Species          0\n",
      "dtype: int64\n"
     ]
    }
   ],
   "source": [
    "# Check for any missing values in our dataset\n",
    "print(irisDf.isnull().sum())"
   ]
  },
  {
   "cell_type": "code",
   "execution_count": 211,
   "id": "19a15895-c942-4840-8495-a13f5cdcb7f1",
   "metadata": {},
   "outputs": [
    {
     "name": "stdout",
     "output_type": "stream",
     "text": [
      "Species\n",
      "Iris-setosa        50\n",
      "Iris-versicolor    50\n",
      "Iris-virginica     50\n",
      "Name: count, dtype: int64\n"
     ]
    }
   ],
   "source": [
    "# Check the distribution of each class (how many observations are found for each species of Iris plant)\n",
    "print(irisDf['Species'].value_counts())"
   ]
  },
  {
   "cell_type": "code",
   "execution_count": 213,
   "id": "9ed0a776-f9d4-4a74-96be-a4dcafcea546",
   "metadata": {},
   "outputs": [
    {
     "name": "stdout",
     "output_type": "stream",
     "text": [
      "FIRST five rows of data: \n",
      "\n",
      "   Id  SepalLengthCm  SepalWidthCm  PetalLengthCm  PetalWidthCm      Species\n",
      "0   1            5.1           3.5            1.4           0.2  Iris-setosa\n",
      "1   2            4.9           3.0            1.4           0.2  Iris-setosa\n",
      "2   3            4.7           3.2            1.3           0.2  Iris-setosa\n",
      "3   4            4.6           3.1            1.5           0.2  Iris-setosa\n",
      "4   5            5.0           3.6            1.4           0.2  Iris-setosa\n",
      "\n",
      "\n",
      "LAST five rows of data: \n",
      "\n",
      "      Id  SepalLengthCm  SepalWidthCm  PetalLengthCm  PetalWidthCm         Species\n",
      "145  146            6.7           3.0            5.2           2.3  Iris-virginica\n",
      "146  147            6.3           2.5            5.0           1.9  Iris-virginica\n",
      "147  148            6.5           3.0            5.2           2.0  Iris-virginica\n",
      "148  149            6.2           3.4            5.4           2.3  Iris-virginica\n",
      "149  150            5.9           3.0            5.1           1.8  Iris-virginica\n"
     ]
    }
   ],
   "source": [
    "# View the FIRST five rows of our dataset\n",
    "print('FIRST five rows of data: ' + '\\n' + '\\n' + str(irisDf.head()) + '\\n' + '\\n')\n",
    "\n",
    "# View the LAST five rows of our dataset\n",
    "print('LAST five rows of data: ' + '\\n' + '\\n' + str(irisDf.tail()))"
   ]
  },
  {
   "cell_type": "markdown",
   "id": "ba8abf75-ace1-44fd-8265-48d44f496c84",
   "metadata": {},
   "source": [
    "**<span style=\"color:Yellow; font-size:18px;\">Now it's time to build our predictive model:</span>**\n",
    "\n",
    "- First, define our feature and target variables\n",
    "\n",
    "- Then, split the dataset into training and testing sets\n",
    "\n",
    "- Next, fit the model to our data\n",
    "\n",
    "- Finally, evaluate our model's performance"
   ]
  },
  {
   "cell_type": "code",
   "execution_count": 216,
   "id": "7f8672bd-d200-4380-b190-de5e550df3b5",
   "metadata": {},
   "outputs": [
    {
     "name": "stdout",
     "output_type": "stream",
     "text": [
      "Feature variable's columns: \n",
      "\n",
      "Index(['SepalLengthCm', 'SepalWidthCm', 'PetalLengthCm', 'PetalWidthCm'], dtype='object')\n",
      "\n",
      "Target variable's columns: \n",
      "\n",
      "Index(['Species'], dtype='object')\n"
     ]
    }
   ],
   "source": [
    "# Define our 'X' (feature) and 'Y' (target) variables\n",
    "X = irisDf.drop(columns=['Species', 'Id'])\n",
    "y = irisDf['Species']\n",
    "\n",
    "# Print our 'X' feature variables\n",
    "print('Feature variable\\'s columns: ' + '\\n' + '\\n' + str(X.columns) + '\\n')\n",
    "\n",
    "# Print our 'Y' (target) variable - the variable we want to predict\n",
    "print('Target variable\\'s columns: ' + '\\n' + '\\n' + str(irisDf[['Species']].columns))"
   ]
  },
  {
   "cell_type": "code",
   "execution_count": 218,
   "id": "0aa37b8b-884a-451e-8e3c-1219decd23e5",
   "metadata": {},
   "outputs": [
    {
     "name": "stdout",
     "output_type": "stream",
     "text": [
      "Dataset split: (120, 4) training samples, and (30, 4) testing samples.\n"
     ]
    }
   ],
   "source": [
    "# Use sk-learn's train_test_split function to divide our data into training, and testing datasets\n",
    "X_train, X_test, y_train, y_test = train_test_split(X, y, test_size=0.2, random_state=144)\n",
    "\n",
    "# Print the 'post-splitting' information about the dataset\n",
    "print('Dataset split: ' + str(X_train.shape) + ' training samples, and ' + str(X_test.shape) + ' testing samples.')"
   ]
  },
  {
   "cell_type": "code",
   "execution_count": 220,
   "id": "e3113df4-5ebc-4c22-afe8-725d212e76e6",
   "metadata": {},
   "outputs": [
    {
     "name": "stdout",
     "output_type": "stream",
     "text": [
      "The Random Forest classification model has been successfully trained.\n"
     ]
    }
   ],
   "source": [
    "#  Use the \"try\" flow control argument to \"try\" and create our model\n",
    "try:\n",
    "    # Initialize the RandomForestClassifier model with random_state set to 144\n",
    "    rf = RandomForestClassifier(random_state=144)\n",
    "\n",
    "    # Train (fit) the model using the training data\n",
    "    rf.fit(X_train, y_train)\n",
    "\n",
    "    # Print a success message for our user\n",
    "    print(\"The Random Forest classification model has been successfully trained.\")\n",
    "\n",
    "# Handle any errors (exceptions) that might occur with our generic exception variable 'ex' \n",
    "except Exception as ex:\n",
    "    print('Error occurred while training the model: ' + str(ex))"
   ]
  },
  {
   "cell_type": "markdown",
   "id": "4d48b331-a870-4c47-b9e8-4a84cff8c274",
   "metadata": {},
   "source": [
    "**<span style=\"color:Yellow; font-size:18px;\">Finally, let's evaluate our predictive model:</span>**\n",
    "\n",
    "- First, let's examine the **accuracy score** *(% of correct vs incorrect predictions)*\n",
    "\n",
    "- Next, let's check out the **classification report** *(precision, accuracy, recall, and F-1 score)*\n",
    "\n",
    "- After creating our classification report, we can **visualize our models performance** on different classes with a **confusion matrix** *(for both training and testing datasets)*\n",
    "\n",
    "- Then, we can visualize ***one*** of the many decision trees used in our **Random Forest** model to gain insight as to how the model *might* work and **how it makes its predictions**"
   ]
  },
  {
   "cell_type": "code",
   "execution_count": 223,
   "id": "8b923475-a6ed-4e5a-8f7e-45852a9b309b",
   "metadata": {},
   "outputs": [
    {
     "name": "stdout",
     "output_type": "stream",
     "text": [
      "Model Accuracy: 0.9667\n"
     ]
    }
   ],
   "source": [
    "# Use the \"try\" flow control argument to \"try\" and generate predictions\n",
    "try:\n",
    "    # Generate predictions using our trained model\n",
    "    y_pred = rf.predict(X_test)\n",
    "\n",
    "    # Calculate the accuracy of our model, storing it in our new variable 'accuracy' (applying the accuracy_score function to our testing set)\n",
    "    accuracy = accuracy_score(y_test, y_pred)\n",
    "\n",
    "    # Print the accuracy score for the model (use '{:.4f}'.format(accuracy) to achieve a 4 decimal place float in the print statement)\n",
    "    print('Model Accuracy: ' + '{:.4f}'.format(accuracy))\n",
    "\n",
    "# Handle any errors ('Exceptions') that may occur during prediction or evaluation, storing them in our generic error variable 'ex'\n",
    "except Exception as ex:\n",
    "    # Print an error message if any occur\n",
    "    print('Error occurred during model evaluation: ' + str(ex))"
   ]
  },
  {
   "cell_type": "code",
   "execution_count": 225,
   "id": "5758fad5-d8ab-49ee-a495-1f937475fa53",
   "metadata": {},
   "outputs": [
    {
     "name": "stdout",
     "output_type": "stream",
     "text": [
      "\n",
      "Classification Report - Random Forest:\n",
      "\n",
      "                  precision    recall  f1-score   support\n",
      "\n",
      "    Iris-setosa       1.00      1.00      1.00         7\n",
      "Iris-versicolor       1.00      0.92      0.96        12\n",
      " Iris-virginica       0.92      1.00      0.96        11\n",
      "\n",
      "       accuracy                           0.97        30\n",
      "      macro avg       0.97      0.97      0.97        30\n",
      "   weighted avg       0.97      0.97      0.97        30\n",
      "\n"
     ]
    }
   ],
   "source": [
    "# Use the \"try\" flow control argument to \"try\" and generate predictions\n",
    "try:\n",
    "    # Generate predictions using our trained model\n",
    "    y_pred = rf.predict(X_test)\n",
    "\n",
    "    # Print a detailed classification report\n",
    "    print('\\nClassification Report - Random Forest:\\n' + '\\n', classification_report(y_test, y_pred))\n",
    "\n",
    "# Handle any errors ('Exceptions') that may occur during prediction or evaluation, storing them in our generic error variable 'ex'\n",
    "except Exception as ex:\n",
    "    # Print an error message if any occur\n",
    "    print('Error occurred during model evaluation: ' + str(ex))"
   ]
  },
  {
   "cell_type": "code",
   "execution_count": 237,
   "id": "955df609-14b7-4713-a993-ec9e53e73de1",
   "metadata": {},
   "outputs": [
    {
     "data": {
      "text/plain": [
       "<sklearn.metrics._plot.confusion_matrix.ConfusionMatrixDisplay at 0x1e9a471e350>"
      ]
     },
     "execution_count": 237,
     "metadata": {},
     "output_type": "execute_result"
    },
    {
     "data": {
      "image/png": "[encoded data removed]",
      "text/plain": [
       "<Figure size 640x480 with 2 Axes>"
      ]
     },
     "metadata": {},
     "output_type": "display_data"
    }
   ],
   "source": [
    "# Use our Random Forest model to predict values (using .predict()) for the TESTING data ('X_train')\n",
    "y_train_pred = rf.predict(X_train)\n",
    "\n",
    "# Create a confusion matrix (using 'confusion_matrix()'), comparing the true labels (y_train) and the predicted labels (y_train_pred)\n",
    "cm = confusion_matrix(y_train, y_train_pred, labels=rf.classes_)\n",
    "\n",
    "# Now display the confusion matrix (using ConfusionMatrixDisplay())\n",
    "ConfusionMatrixDisplay(confusion_matrix=cm, display_labels=rf.classes_).plot()"
   ]
  },
  {
   "cell_type": "code",
   "execution_count": 239,
   "id": "7651ed2d-4383-4e64-b608-5067707d0c4b",
   "metadata": {},
   "outputs": [
    {
     "data": {
      "text/plain": [
       "<sklearn.metrics._plot.confusion_matrix.ConfusionMatrixDisplay at 0x1e9a57e8350>"
      ]
     },
     "execution_count": 239,
     "metadata": {},
     "output_type": "execute_result"
    },
    {
     "data": {
      "image/png": "[encoded data removed]",
      "text/plain": [
       "<Figure size 640x480 with 2 Axes>"
      ]
     },
     "metadata": {},
     "output_type": "display_data"
    }
   ],
   "source": [
    "# Use our Random Forest model to predict values (using .predict()) for the TESTING data ('X_train')\n",
    "y_test_pred = rf.predict(X_test)  # Use the Random Forest model to predict values for the test data\n",
    "\n",
    "# Create a confusion matrix (using 'confusion_matrix()'), comparing the true labels (y_test) and the predicted labels (y_test_pred)\n",
    "cmTest = confusion_matrix(y_test, y_test_pred, labels=rf.classes_)  # Generate the confusion matrix\n",
    "\n",
    "# Now display the confusion matrix (using ConfusionMatrixDisplay()) for the TESTING data\n",
    "ConfusionMatrixDisplay(confusion_matrix=cmTest, display_labels=rf.classes_).plot()"
   ]
  },
  {
   "cell_type": "code",
   "execution_count": 231,
   "id": "5e556587-dca7-49a2-a5b6-5e604d2ffb43",
   "metadata": {},
   "outputs": [
    {
     "name": "stdout",
     "output_type": "stream",
     "text": [
      "Decision tree successfully saved as 'randomForestTree1.pdf'.\n"
     ]
    }
   ],
   "source": [
    "# Use the \"try\" flow control argument to \"try\" and export AND visualize one of our decision trees from the Random Forest model\n",
    "try:\n",
    "    # Select the first decision tree from the trained Random Forest model for visualization and export\n",
    "    tree = rf.estimators_[0]  \n",
    "\n",
    "    # Generate the decision tree visualization in DOT format\n",
    "    dot_data = export_graphviz(rf.estimators_[0], out_file=None, \n",
    "                               feature_names=X.columns,  \n",
    "                               class_names=rf.classes_,\n",
    "                               filled=True, rounded=True, special_characters=True)\n",
    "\n",
    "    # Convert the DOT data to a Graphviz object\n",
    "    graph = graph_from_dot_data(dot_data)\n",
    "    # Save the Graphviz object to a .pdf file\n",
    "    graph.write_pdf('randomForestTree1.pdf')  \n",
    "\n",
    "    # Inform the user of successful pdf export\n",
    "    print(\"Decision tree successfully saved as 'randomForestTree1.pdf'.\")\n",
    "\n",
    "# Handle any errors (Exceptions) that occur during the export process with our generic error variable 'ex'\n",
    "except Exception as ex:\n",
    "    # Print a generic error message for our user\n",
    "    print(\"Error occurred while generating the decision tree PDF: \" + str(ex))"
   ]
  },
  {
   "cell_type": "markdown",
   "id": "241e37f8-6691-4dc5-8bb2-cfc30ebc3656",
   "metadata": {},
   "source": [
    "**<span style=\"color:Yellow; font-size:18px;\">Let's discuss the exported decision tree:</span>**\n",
    "\n",
    "*We should recognize that since we are using a **Random Forest model**, it creates **several decision trees** and aggregates them together to make the most accurate classifications possible*\n",
    "\n",
    "**Observations of our first tree (with our *random_state* set = to *144*)**\n",
    "\n",
    "*Left side:*\n",
    "\n",
    "- The first decision the model makes is about the SepalLength (in cm) being LESS THAN or equal to 5.45cm, if the sample is - we will go down the left side of the tree\n",
    "\n",
    "- On this left side of the tree, the model then examines the PetalWidth (also in cm), where if it is less than 0.8cm (don't forget the sepal length also has to be less than 5.45cm) it can reasonably be classified as an Iris-setosa\n",
    "\n",
    "- While still on the left side of the tree, if the PetalWidth is actually greater than 0.8cm (and as mentioned previously, the sepal length is still less than 5.45cm) then the flower can be classified as an Iris-versicolor\n",
    "\n",
    "- Otherwise, if the PetalWidth is less than the 0.8cm (and still sepal length is still less than 5.45cm) the flower is classified as an Iris-virginica\n",
    "\n",
    "*Right side:*\n",
    "\n",
    "- Now to the right side of the tree, the model first checks if the SepalLength is GREATER THAN 5.45cm AND if PetalLength is LESS THAN 4.95cm. If both conditions are true, the sample is classified as Iris-versicolor.\n",
    "\n",
    "*If PetalLength is greater than 4.95 cm (AND SepalLength is still greater than 5.45 cm), the model then checks the SepalLength once again:*\n",
    "\n",
    "- If SepalLength is less than 6.05 cm, the flower is classified as Iris-versicolor.\n",
    "\n",
    "- If SepalLength is greater than or equal to 6.05 cm, the flower is classified as Iris-virginica.\n",
    "\n",
    "*Please be aware that this is only **ONE** of the decision trees used in the Random Forest model - which aggregates **many** trees to make the most reliable predictions*"
   ]
  },
  {
   "cell_type": "markdown",
   "id": "674264df-982b-4701-9197-edffdde909c0",
   "metadata": {},
   "source": [
    "**<span style=\"color:Orange; font-size:18px;\">Saving our predictions:</span>**\n",
    "\n",
    "- Now let's **save our predictions** to a **.csv file** for quick and easy access"
   ]
  },
  {
   "cell_type": "code",
   "execution_count": 235,
   "id": "8bb08788-1c25-48db-9669-e56733af3126",
   "metadata": {},
   "outputs": [
    {
     "name": "stdout",
     "output_type": "stream",
     "text": [
      "Predictions successfully saved to 'irisPredictions.csv'.\n"
     ]
    }
   ],
   "source": [
    "# Use the \"try\" flow control argument to \"try\" and save the predictions to a CSV\n",
    "try:\n",
    "    # Make a copy (using .copy()) of the test data (X_test), which contains all of the columns (features)\n",
    "    results = X_test.copy()\n",
    "\n",
    "    # Add the 'Actual' column with the true values (from y_test) and 'Predicted' column with predicted values (from y_pred)\n",
    "    results['Actual'] = y_test  # Add actual values\n",
    "    results['Predicted'] = y_pred  # Add predicted values\n",
    "\n",
    "    # Add the 'Id' column (use the index as the sample ID)\n",
    "    results['Id'] = X_test.index  # Add sample IDs from the index\n",
    "\n",
    "    # Reorder the columns in the correct order\n",
    "    results = results[['Id', 'SepalLengthCm', 'SepalWidthCm', 'PetalLengthCm', 'PetalWidthCm', 'Actual', 'Predicted']]\n",
    "\n",
    "    # Save the resulting DataFrame to a .CSV file\n",
    "    results.to_csv('irisPredictions.csv', index=False)\n",
    "\n",
    "    # Inform the user of the successful .CSV export\n",
    "    print(\"Predictions successfully saved to 'irisPredictions.csv'.\")\n",
    "\n",
    "# Handle any errors (Exceptions) that occur during the .CSV export process with our generic error variable 'ex'\n",
    "except Exception as ex:\n",
    "    # Print a generic error message for our user\n",
    "    print(\"Error occurred while saving the predictions to CSV: \" + str(ex))"
   ]
  },
  {
   "cell_type": "markdown",
   "id": "a63301c2-9878-462b-8dd4-fd300eb8c4ea",
   "metadata": {},
   "source": [
    "**<span style=\"color:Blue; font-size:18px;\">Final Thoughts:</span>**\n",
    "\n",
    "- Our **Random Forest model performed well** on both the training and testing datasets, showing **strong generalization without significant overfitting.**\n",
    "\n",
    "- The confusion matrix for both datasets revealed that the model made accurate predictions overall, with a singular misclassification in one sample of the test data.\n",
    "\n",
    "*This indicates that the model is reliable and performs consistently across different data.*\n",
    "\n",
    "- Visualizing decision trees can provide useful insights, but we must remember that **a tree from a Random Forest is just an individual decision among many other trees** in the ensemble.\n",
    "\n",
    "*It’s the aggregation of ALL the trees in the forest which makes Random Forests a robust model. The strength of these models lies in the ensemble.*"
   ]
  }
 ],
 "metadata": {
  "kernelspec": {
   "display_name": "Python 3 (ipykernel)",
   "language": "python",
   "name": "python3"
  },
  "language_info": {
   "codemirror_mode": {
    "name": "ipython",
    "version": 3
   },
   "file_extension": ".py",
   "mimetype": "text/x-python",
   "name": "python",
   "nbconvert_exporter": "python",
   "pygments_lexer": "ipython3",
   "version": "3.11.7"
  }
 },
 "nbformat": 4,
 "nbformat_minor": 5
}
